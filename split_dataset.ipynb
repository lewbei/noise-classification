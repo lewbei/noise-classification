{
 "cells": [
  {
   "cell_type": "code",
   "execution_count": 7,
   "id": "7e3e7fbf-31a0-4320-a2bc-acaf93e2d68c",
   "metadata": {},
   "outputs": [
    {
     "name": "stdout",
     "output_type": "stream",
     "text": [
      "Files have been split and copied to respective directories while maintaining folder structure.\n"
     ]
    }
   ],
   "source": [
    "import os\n",
    "import shutil\n",
    "from glob import glob\n",
    "import random\n",
    "\n",
    "# Set a seed for reproducibility\n",
    "random.seed(42)\n",
    "\n",
    "# Paths to your folders\n",
    "folders = [r'C:\\Users\\Qwerty\\Downloads\\Benchmarks Dataset\\DIV2K\\noisy\\gaussian', r'C:\\Users\\Qwerty\\Downloads\\Benchmarks Dataset\\DIV2K\\noisy\\poisson',\n",
    "           r'C:\\Users\\Qwerty\\Downloads\\Benchmarks Dataset\\DIV2K\\noisy\\salt_pepper', r'C:\\Users\\Qwerty\\Downloads\\Benchmarks Dataset\\DIV2K\\noisy\\speckle']\n",
    "\n",
    "# New directories for train, validation, and test\n",
    "base_train_dir  = r'C:\\Users\\Qwerty\\Downloads\\Benchmarks Dataset\\DIV2K\\dl_data/train'\n",
    "base_valid_dir  = r'C:\\Users\\Qwerty\\Downloads\\Benchmarks Dataset\\DIV2K\\dl_data/valid'\n",
    "base_test_dir  = r'C:\\Users\\Qwerty\\Downloads\\Benchmarks Dataset\\DIV2K\\dl_data/test'\n",
    "\n",
    "# Ensure the directories exist\n",
    "os.makedirs(train_dir, exist_ok=True)\n",
    "os.makedirs(valid_dir, exist_ok=True)\n",
    "os.makedirs(test_dir, exist_ok=True)\n",
    "\n",
    "# Define split ratios\n",
    "train_split = 0.6\n",
    "valid_split = 0.2\n",
    "# Test split is implied to be the rest\n",
    "\n",
    "for folder in folders:\n",
    "    # Get the folder name (e.g., 'Folder1')\n",
    "    folder_name = os.path.basename(folder)\n",
    "    \n",
    "    # Create subdirectories for each folder in train, valid, and test directories\n",
    "    train_dir = os.path.join(base_train_dir, folder_name)\n",
    "    valid_dir = os.path.join(base_valid_dir, folder_name)\n",
    "    test_dir = os.path.join(base_test_dir, folder_name)\n",
    "    os.makedirs(train_dir, exist_ok=True)\n",
    "    os.makedirs(valid_dir, exist_ok=True)\n",
    "    os.makedirs(test_dir, exist_ok=True)\n",
    "    \n",
    "    # Get all files from the folder\n",
    "    files = glob(os.path.join(folder, '*'))\n",
    "    \n",
    "    # Shuffle files\n",
    "    random.shuffle(files)\n",
    "    \n",
    "    # Calculate split indices\n",
    "    train_end = int(len(files) * train_split)\n",
    "    valid_end = train_end + int(len(files) * valid_split)\n",
    "    \n",
    "    # Split files\n",
    "    train_files = files[:train_end]\n",
    "    valid_files = files[train_end:valid_end]\n",
    "    test_files = files[valid_end:]\n",
    "    \n",
    "    # Function to copy files\n",
    "    def copy_files(files, dest):\n",
    "        for file in files:\n",
    "            shutil.copy(file, dest)\n",
    "    \n",
    "    # Copy files to respective directories\n",
    "    copy_files(train_files, train_dir)\n",
    "    copy_files(valid_files, valid_dir)\n",
    "    copy_files(test_files, test_dir)\n",
    "\n",
    "print(\"Files have been split and copied to respective directories while maintaining folder structure.\")"
   ]
  },
  {
   "cell_type": "code",
   "execution_count": null,
   "id": "17576cb8-efcc-4d56-a90d-0e48b2b4b1ef",
   "metadata": {},
   "outputs": [],
   "source": []
  }
 ],
 "metadata": {
  "kernelspec": {
   "display_name": "Python 3 (ipykernel)",
   "language": "python",
   "name": "python3"
  },
  "language_info": {
   "codemirror_mode": {
    "name": "ipython",
    "version": 3
   },
   "file_extension": ".py",
   "mimetype": "text/x-python",
   "name": "python",
   "nbconvert_exporter": "python",
   "pygments_lexer": "ipython3",
   "version": "3.11.5"
  }
 },
 "nbformat": 4,
 "nbformat_minor": 5
}
